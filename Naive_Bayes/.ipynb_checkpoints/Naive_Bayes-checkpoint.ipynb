{
 "cells": [
  {
   "cell_type": "markdown",
   "id": "3fc3a4d3-956f-4b79-9e31-a0704cbc7ceb",
   "metadata": {},
   "source": [
    "## Bayes Theorem \n",
    "\n",
    "### Works on the principle of conditional probability\n",
    "### Gives the conditional probability of an event A given the another event B has occured (P(A|B) formula)\n",
    "\n",
    "---\n",
    "\n",
    "## Take more notes"
   ]
  },
  {
   "cell_type": "code",
   "execution_count": 1,
   "id": "0815d267-f652-42d2-82f1-b0976ceb9de1",
   "metadata": {},
   "outputs": [],
   "source": [
    "import numpy as np\n",
    "import pandas as pd\n",
    "from sklearn.model_selection import train_test_split"
   ]
  },
  {
   "cell_type": "code",
   "execution_count": null,
   "id": "f321adb4-c01f-4442-adf5-0942b7e270d7",
   "metadata": {},
   "outputs": [],
   "source": []
  }
 ],
 "metadata": {
  "kernelspec": {
   "display_name": "Python 3 (ipykernel)",
   "language": "python",
   "name": "python3"
  },
  "language_info": {
   "codemirror_mode": {
    "name": "ipython",
    "version": 3
   },
   "file_extension": ".py",
   "mimetype": "text/x-python",
   "name": "python",
   "nbconvert_exporter": "python",
   "pygments_lexer": "ipython3",
   "version": "3.12.1"
  }
 },
 "nbformat": 4,
 "nbformat_minor": 5
}

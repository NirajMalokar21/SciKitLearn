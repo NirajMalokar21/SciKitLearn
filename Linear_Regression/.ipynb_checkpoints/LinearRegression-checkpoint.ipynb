{
 "cells": [
  {
   "cell_type": "markdown",
   "id": "ecd12fec-8365-443f-abf2-cae0ea7538a0",
   "metadata": {},
   "source": [
    "# Steps to make a Linear Regression Model\n",
    "\n",
    "## 1) We plot our dependent variable (y-axis) against the independent variable (x-axis)\n",
    "## 2) We try to plot a straight line and measure correlation\n",
    "## 3) We keep changing the direction of our straight line until we get the best correlation\n",
    "## 4) We extrapolate from this line to find new values on the y-axis\n",
    "\n",
    "---"
   ]
  },
  {
   "cell_type": "code",
   "execution_count": 1,
   "id": "b0705e26-3bbe-4d90-9258-7a2933412e69",
   "metadata": {},
   "outputs": [],
   "source": [
    "from sklearn import datasets\n",
    "from sklearn import linear_model\n",
    "from sklearn.model_selection import train_test_split\n",
    "from matplotlib import pyplot as plt "
   ]
  },
  {
   "cell_type": "code",
   "execution_count": 4,
   "id": "399d2a95-1666-4544-aad2-895f3b943fed",
   "metadata": {},
   "outputs": [],
   "source": [
    "X, y = datasets.load_diabetes(return_X_y=True)"
   ]
  },
  {
   "cell_type": "code",
   "execution_count": 6,
   "id": "9b318bf5-48dd-4bbc-bd25-40da2ccdbd5c",
   "metadata": {},
   "outputs": [
    {
     "data": {
      "text/plain": [
       "(442, 10)"
      ]
     },
     "execution_count": 6,
     "metadata": {},
     "output_type": "execute_result"
    }
   ],
   "source": [
    "X.shape"
   ]
  },
  {
   "cell_type": "code",
   "execution_count": 7,
   "id": "b05edd99-277f-415f-b100-aac126ff72d1",
   "metadata": {},
   "outputs": [
    {
     "data": {
      "text/plain": [
       "(442,)"
      ]
     },
     "execution_count": 7,
     "metadata": {},
     "output_type": "execute_result"
    }
   ],
   "source": [
    "y.shape"
   ]
  },
  {
   "cell_type": "code",
   "execution_count": 11,
   "id": "77e3acc8-fd48-43e1-892c-69824d53d78b",
   "metadata": {},
   "outputs": [],
   "source": [
    "data = datasets.load_diabetes()"
   ]
  },
  {
   "cell_type": "code",
   "execution_count": 13,
   "id": "3998c3c5-b9fe-43b3-bc81-748b417cb576",
   "metadata": {
    "collapsed": true,
    "jupyter": {
     "outputs_hidden": true
    }
   },
   "outputs": [
    {
     "data": {
      "text/plain": [
       "'.. _diabetes_dataset:\\n\\nDiabetes dataset\\n----------------\\n\\nTen baseline variables, age, sex, body mass index, average blood\\npressure, and six blood serum measurements were obtained for each of n =\\n442 diabetes patients, as well as the response of interest, a\\nquantitative measure of disease progression one year after baseline.\\n\\n**Data Set Characteristics:**\\n\\n:Number of Instances: 442\\n\\n:Number of Attributes: First 10 columns are numeric predictive values\\n\\n:Target: Column 11 is a quantitative measure of disease progression one year after baseline\\n\\n:Attribute Information:\\n    - age     age in years\\n    - sex\\n    - bmi     body mass index\\n    - bp      average blood pressure\\n    - s1      tc, total serum cholesterol\\n    - s2      ldl, low-density lipoproteins\\n    - s3      hdl, high-density lipoproteins\\n    - s4      tch, total cholesterol / HDL\\n    - s5      ltg, possibly log of serum triglycerides level\\n    - s6      glu, blood sugar level\\n\\nNote: Each of these 10 feature variables have been mean centered and scaled by the standard deviation times the square root of `n_samples` (i.e. the sum of squares of each column totals 1).\\n\\nSource URL:\\nhttps://www4.stat.ncsu.edu/~boos/var.select/diabetes.html\\n\\nFor more information see:\\nBradley Efron, Trevor Hastie, Iain Johnstone and Robert Tibshirani (2004) \"Least Angle Regression,\" Annals of Statistics (with discussion), 407-499.\\n(https://web.stanford.edu/~hastie/Papers/LARS/LeastAngle_2002.pdf)\\n'"
      ]
     },
     "execution_count": 13,
     "metadata": {},
     "output_type": "execute_result"
    }
   ],
   "source": [
    "data.DESCR"
   ]
  },
  {
   "cell_type": "code",
   "execution_count": 31,
   "id": "06236c79-1dd5-46e0-9095-0b7671ca9092",
   "metadata": {},
   "outputs": [],
   "source": [
    "x_train, x_test, y_train, y_test = train_test_split(X,y, test_size=0.2) "
   ]
  },
  {
   "cell_type": "code",
   "execution_count": 32,
   "id": "4d43c675-411f-4691-800c-a8e8deb8c0ca",
   "metadata": {},
   "outputs": [],
   "source": [
    "l_reg = linear_model.LinearRegression()\n",
    "model = l_reg.fit(x_train, y_train)"
   ]
  },
  {
   "cell_type": "code",
   "execution_count": 33,
   "id": "e948efab-4f67-4923-b0db-571e5589cba9",
   "metadata": {},
   "outputs": [
    {
     "data": {
      "text/plain": [
       "<matplotlib.collections.PathCollection at 0x1ff76433470>"
      ]
     },
     "execution_count": 33,
     "metadata": {},
     "output_type": "execute_result"
    },
    {
     "data": {
      "image/png": "[encoded data removed]",
      "text/plain": [
       "<Figure size 640x480 with 1 Axes>"
      ]
     },
     "metadata": {},
     "output_type": "display_data"
    }
   ],
   "source": [
    "prediction = model.predict(x_test)\n",
    "plt.scatter(prediction, y_test)"
   ]
  },
  {
   "cell_type": "code",
   "execution_count": 34,
   "id": "8e09eb27-4e76-4a27-a90b-d10a6bbccdea",
   "metadata": {},
   "outputs": [
    {
     "name": "stdout",
     "output_type": "stream",
     "text": [
      "Accuracy / R^2 0.5158461258753924\n"
     ]
    }
   ],
   "source": [
    "print(\"Accuracy / R^2\", l_reg.score(X,y))"
   ]
  },
  {
   "cell_type": "code",
   "execution_count": 41,
   "id": "b96811e9-dc21-49c7-a18a-ec376e2e0a2e",
   "metadata": {},
   "outputs": [
    {
     "name": "stdout",
     "output_type": "stream",
     "text": [
      "Regression coefficients:  [  36.78695398 -231.02679301  496.25326136  330.29639953 -867.84435756\n",
      "  530.24423521  101.15357484  177.66522215  792.10912911    9.42202265]\n"
     ]
    }
   ],
   "source": [
    "print(\"Regression coefficients: \", l_reg.coef_)"
   ]
  },
  {
   "cell_type": "code",
   "execution_count": 42,
   "id": "a6465555-8bac-4cb7-94f4-51cb79d661e4",
   "metadata": {},
   "outputs": [
    {
     "name": "stdout",
     "output_type": "stream",
     "text": [
      "y_intercept:  152.05740416700874\n"
     ]
    }
   ],
   "source": [
    "print(\"y_intercept: \", l_reg.intercept_)"
   ]
  },
  {
   "cell_type": "markdown",
   "id": "19309a24-8caf-45fb-8c3a-048cfe6885e5",
   "metadata": {},
   "source": [
    "--- \n",
    "\n",
    "# Steps as to how this worked\n",
    "\n",
    "## 1) Initialization\n",
    "\n",
    "### We have a matrix of shape X, and a target vector y.\n",
    "### The model needs to learn the weight vector for each feature and a bias\n",
    "\n",
    "## 2) Make Predictions\n",
    "\n",
    "### Using current weights and bias, the model predicts y_hat.\n",
    "### y_hat = X.dot(w) + b gives us a vecotr of predictions, one per sample\n",
    "\n",
    "## 3) Calculate Error\n",
    "\n",
    "### Calculate error using err = y - y_hat\n",
    "### Then we calculate loss (typically mean squared error)\n",
    "\n",
    "## 4) Adjust Weights\n",
    "\n",
    "### The model updates weights and bias to reduce loss\n",
    "### This step is repeated over multiple pochs until the loss stops improving\n",
    "\n",
    "## 5) Evaluate Performance\n",
    "\n",
    "### Using the model.predict(X_test) to calculate y_pred\n",
    "### Evaluate by plotting or by r2_score(y_test, y_pred)"
   ]
  },
  {
   "cell_type": "code",
   "execution_count": null,
   "id": "13a129e2-73b7-4f0f-ab52-5dededa28a3f",
   "metadata": {},
   "outputs": [],
   "source": []
  }
 ],
 "metadata": {
  "kernelspec": {
   "display_name": "Python 3 (ipykernel)",
   "language": "python",
   "name": "python3"
  },
  "language_info": {
   "codemirror_mode": {
    "name": "ipython",
    "version": 3
   },
   "file_extension": ".py",
   "mimetype": "text/x-python",
   "name": "python",
   "nbconvert_exporter": "python",
   "pygments_lexer": "ipython3",
   "version": "3.12.1"
  }
 },
 "nbformat": 4,
 "nbformat_minor": 5
}

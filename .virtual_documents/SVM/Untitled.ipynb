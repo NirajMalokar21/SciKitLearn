








import pandas as pd 
import numpy as np 
import matplotlib.pyplot as plt 
from sklearn import datasets


iris = datasets.load_iris() 


X = iris.data 
y = iris.target

names = iris.target_names


X.shape


y.shape





df = pd.DataFrame(X, columns=iris.feature_names)
df['species'] = iris.target
df['species'] = df['species'].replace(to_replace=[0,1,2], value=['setosa', 'versicolor', 'virginica'])


df


import seaborn as sns 





sns.pairplot(data=df, hue='species', palette='Set2') 


from sklearn.model_selection import train_test_split

X_train, X_test, y_train, y_test = train_test_split(X, y, test_size=0.20, random_state=1) 


from sklearn.svm import SVC 

svm = SVC(kernel='linear', random_state=0)
svm.fit(X_train, y_train)


pred = svm.predict(X_test)


from sklearn.metrics import accuracy_score
from sklearn.metrics import confusion_matrix
accuracy_score(y_test, pred)


confusion_matrix(y_test, pred)


svm_rbf = SVC(kernel='rbf', random_state=0) 
svm_rbf.fit(X_train, y_train)
rbf_pred = svm_rbf.predict(X_test)


accuracy_score(y_test, rbf_pred)

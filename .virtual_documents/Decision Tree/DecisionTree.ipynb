








from sklearn.datasets import load_wine
from sklearn.model_selection import train_test_split
import numpy as np 
import seaborn as sns 
import matplotlib.pyplot as plt 
import pandas as pd 


data = load_wine()
print(data.keys())


df = pd.DataFrame(data=data.data, columns=data.feature_names)


df.info()


target = data.target


X_train, X_test, y_train, y_test = train_test_split(data.data, target, test_size=0.20, random_state=1)


from sklearn.tree import DecisionTreeClassifier


csf = DecisionTreeClassifier(max_depth=3, random_state=42)

csf.fit(X_train, y_train)


from sklearn.metrics import classification_report, accuracy_score

y_pred = csf.predict(X_test)

print("Accuracy score: ", accuracy_score(y_test, y_pred))





from sklearn.tree import plot_tree

plt.figure(figsize=(15,10))
plot_tree(csf, feature_names=data.feature_names, class_names=data.target_names, filled=True)
plt.show()




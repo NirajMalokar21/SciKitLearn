


import sklearn


from sklearn.datasets import load_iris


load_iris()


load_iris(return_X_y=True)


X, y = load_iris(return_X_y=True)


from sklearn.linear_model import LinearRegression


Model = LinearRegression()


Model.fit(X,y)





import matplotlib.pyplot as plt
pred = Model.predict(X)
plt.scatter(pred, y)





import pandas as pd


from sklearn.datasets import fetch_openml


df = fetch_openml('titanic', version =1, as_frame=True)['data']





df.info()


df.isnull()


df.isnull().sum()


import seaborn as sns


sns.set()
miss_value_per = pd.DataFrame((df.isnull().sum()/len(df))*100)
miss_value_per.plot(kind='bar', title='Missing values in percentage', ylabel='percentage')


print(f'size of the dataset: {df.shape}')





df.drop(['body'], axis=1, inplace=True)
print(f"Size of the dataset after dropping a feature: {df.shape}")





 from sklearn.impute import SimpleImputer


print(f"Number of null values before imputing: {df.age.isnull().sum()}")


imp = SimpleImputer(strategy='mean')
df['age'] = imp.fit_transform(df[['age']])
print(f"Number of null values after imputing: {df.age.isnull().sum()}")


def get_parameters(df):
    parameters = {}
    for col in df.columns[df.isnull().any()]:
        if df[col].dtype == 'float64' or df[col].dtype == 'int64' or df[col].dtype == 'int32':
            strategy = 'mean'
        else:
            strategy = 'most_frequent' 

        missing_values = df[col][df[col].isnull()].values[0] 
        parameters[col] = {'missing_values':missing_values, 'strategy':strategy}
    return parameters
get_parameters(df)


parameters = get_parameters(df)


for col, param in parameters.items():
    missing_values = param['missing_values']
    strategy = param['strategy']
    imp = SimpleImputer(missing_values = missing_values, strategy= strategy)
    df[col] = imp.fit_transform(df[[col]]).ravel()


df.isnull().sum()


df.head()





df['family'] = df['sibsp'] + df['parch']
df.loc[df['family']>0, 'travelled_alone'] = 0
df.loc[df['family']==0, 'travelled_alone'] = 1
df['travelled_alone'].value_counts().plot(title='Passenger travelled alone?', kind='bar')





from sklearn.preprocessing import OneHotEncoder
df[['female', 'male']] = OneHotEncoder().fit_transform(df[['sex']]).toarray()
df[['sex', 'female', 'male']]


df['sex'] = OneHotEncoder().fit_transform(df[['sex']]).toarray()[:,1]


df.head() 




















from sklearn.preprocessing import StandardScaler


num_cols = df.select_dtypes(include=['int64', 'float64', 'int32']).columns
print(num_cols)


ss = StandardScaler()


df[num_cols] == ss.fit_transform(df[num_cols])
df[num_cols].describe()


from sklearn.preprocessing import MinMaxScaler


minmax = MinMaxScaler() 
df[num_cols] = minmax.fit_transform(df[num_cols])
df[num_cols]




from sklearn import datasets 
data = datasets.load_diabetes() 


import pandas as pd 
df = pd.DataFrame(data.data, columns=data.feature_names) 
df['target'] = pd.Series(data.target) 


df 


import numpy as np 


import seaborn as sns 
import matplotlib.pyplot as plt 


df.info() 


df[df.duplicated()]


y = df['target'] 
X = df.drop('target', axis=1)


from sklearn.model_selection import train_test_split

X_train, X_test, y_train, y_test = train_test_split(X, y, test_size=0.2, random_state=0) 


from sklearn.ensemble import GradientBoostingRegressor

gbr = GradientBoostingRegressor(n_estimators=500)

gbr.fit(X_train, y_train)


y_pred = gbr.predict(X_test)


from sklearn.metrics import mean_absolute_error

mae = mean_absolute_error(y_pred, y_test)
print(mae)


feature_scores = pd.Series(gbr.feature_importances_, index=X_train.columns).sort_values(ascending=False)
print(feature_scores)


sns.barplot(x = feature_scores, y = feature_scores.index) 
plt.xlabel('Feature Importance Score')
plt.ylabel('Features')




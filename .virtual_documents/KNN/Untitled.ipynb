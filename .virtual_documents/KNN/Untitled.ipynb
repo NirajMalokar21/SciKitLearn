











import numpy as np
import pandas as pd 
import matplotlib.pyplot as plt 
import seaborn as sns 
from sklearn import datasets 
data = datasets.load_wine(as_frame=True)


data 


X = data.data 
y = data.target
names = data.target_names
print(names)


df = pd.DataFrame(X, columns=data.feature_names) 
df['wine_class'] = data.target 
df['wine_class'] = df['wine_class'].replace(to_replace=[0, 1, 2], value=['class_0', 'class_1', 'class_2']) 


df.head() 





sns.pairplot(data=df, hue='wine_class', palette='Set2')


df.isnull().sum()


from sklearn.model_selection import train_test_split
X_train, X_test, y_train, y_test = train_test_split(X, y, test_size=0.3, random_state=1)


from sklearn.neighbors import KNeighborsClassifier

import math 
math.sqrt(len(y_test))


knn = KNeighborsClassifier(n_neighbors=7)
knn.fit(X_train, y_train) 
pred = knn.predict(X_test)


from sklearn import metrics 
metrics.accuracy_score(y_test, pred)





from sklearn.preprocessing import StandardScaler

sc = StandardScaler()

X_train = sc.fit_transform(X_train)
X_test = sc.fit_transform(X_test)


knn1 = KNeighborsClassifier(n_neighbors=7, metric='euclidean')
knn1.fit(X_train, y_train)
pred2 = knn1.predict(X_test)


metrics.accuracy_score(y_test, pred2)

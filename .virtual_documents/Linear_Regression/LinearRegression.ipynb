


from sklearn import datasets
from sklearn import linear_model
from sklearn.model_selection import train_test_split
from matplotlib import pyplot as plt 


X, y = datasets.load_diabetes(return_X_y=True)


X.shape


y.shape


data = datasets.load_diabetes()


data.DESCR


x_train, x_test, y_train, y_test = train_test_split(X,y, test_size=0.2) 


l_reg = linear_model.LinearRegression()
model = l_reg.fit(x_train, y_train)


prediction = model.predict(x_test)
plt.scatter(prediction, y_test)


print("Accuracy / R^2", l_reg.score(X,y))


print("Regression coefficients: ", l_reg.coef_)


print("y_intercept: ", l_reg.intercept_)







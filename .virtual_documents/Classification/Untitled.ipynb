import numpy as np


X = np.array([
    [0, 0],  # No ID, not on guest list → ❌
    [0, 1],  # Guest only → ✅
    [1, 0],  # ID only → ✅
    [1, 1]   # ID and guest → ✅
])
y = np.array([0, 1, 1, 1]) 


import math





w0 = np.random.random() 
w1 = np.random.random()  
print("Initial weights:")
print("w0: ", w0, " w1: ", w1)


epochs = 100
alpha = 0.3


bias = 0


del_w0 = 1
del_w1 = 1





for i in range(epochs): 
    j = 0
    for x in X:
        y_hat = w0*x[0] + w1*x[1] + bias

        if(y_hat > 0):
            act = 1
        else:
            act =0

        err = y[j] - act

        del_w0 = alpha*w0*err
        del_w1 = alpha*w1*err 

        w0 = w0+del_w0
        w1 = w1+del_w1

        j =+ 1
print("\nFinal Weights = ")
print("w0: ", w0, " w1: ", w1)

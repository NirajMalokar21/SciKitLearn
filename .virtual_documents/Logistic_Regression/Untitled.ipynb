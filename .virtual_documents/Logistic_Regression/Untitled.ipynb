


import pandas as pd 
import numpy as np 
import seaborn as sns 
import matplotlib.pyplot as plt 

from sklearn.datasets import fetch_openml


titanic_data = fetch_openml("titanic", version=1, as_frame=True)  


df = titanic_data['data']


df['survived'] = titanic_data['target']





df.head()


sns.countplot(x='survived', data=df)


sns.countplot(x='survived', hue = "sex" , data=df)


sns.countplot(x='survived', hue = "pclass" , data=df)


df['age'].plot.hist()


df.info()





df.isnull().sum()





missing_values = pd.DataFrame(df.isnull().sum()/len(df) * 100)

missing_values.plot(kind = 'bar', title = 'missing values in %', ylabel = 'percentage')





df['family'] = df['sibsp'] + df['parch']
df.loc[df['family'] > 0, 'travelled_alone'] = 0
df.loc[df['family'] == 0, 'travelled_alone'] = 1


df['family'].head()


df.drop(['sibsp', 'parch'], axis=1, inplace=True)


sns.countplot(x='travelled_alone', data = df)
plt.title("Number of Passengers Travelling Alone")


df.head()


df.drop(['name', 'ticket', 'home.dest'], axis=1, inplace=True)


df.drop(['cabin', 'body', 'boat'], axis=1, inplace=True)


sex = pd.get_dummies(df['sex'], drop_first=True)
print(sex)


df.isnull().sum() 


from sklearn.impute import SimpleImputer





imp_mean = SimpleImputer(strategy='mean')


df['age'] = imp_mean.fit_transform(df[['age']])


df['fare'] = imp_mean.fit_transform(df[['fare']])


imp_freq = SimpleImputer(strategy='most_frequent')


df['embarked'] = imp_freq.fit_transform(df[['embarked']]).ravel()


df.isnull().sum()


df.head()





df['sex'] = df['sex'].map({'male': 1, 'female': 0})


df['embarked'].unique()


df = pd.get_dummies(df, columns=['embarked'])


df.drop(['embarked_C'], axis=1, inplace=True)
df.head()





X = df.drop(['survived'], axis=1)
X.head()


y = df['survived']


from sklearn.model_selection import train_test_split
x_train, x_test, y_train, y_test = train_test_split(X, y, test_size = 0.3, random_state=1)


print(x_train.shape, y_train.shape)
print(x_test.shape, y_test.shape)


from sklearn.linear_model import LogisticRegression
mod = LogisticRegression()
mod.fit(x_train, y_train)


pred = mod.predict(x_test)


from sklearn.metrics import accuracy_score
accuracy_score(y_test, pred)


from sklearn.metrics import confusion_matrix
confusion_matrix(y_test, pred)

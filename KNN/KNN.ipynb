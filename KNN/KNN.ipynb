{
 "cells": [
  {
   "cell_type": "markdown",
   "id": "f86d7244-c65f-4d20-933a-13899151b23d",
   "metadata": {},
   "source": [
    "# K Nearest Neighbours Algorithm\n",
    "\n",
    "## The simplest supervised ML algorithm mostly used for solving classification problems.\n",
    "\n",
    "## Classifies a data point based on how its neighbours are classified, then classifies new cases based on a similarity measure"
   ]
  }
 ],
 "metadata": {
  "kernelspec": {
   "display_name": "Python 3 (ipykernel)",
   "language": "python",
   "name": "python3"
  },
  "language_info": {
   "codemirror_mode": {
    "name": "ipython",
    "version": 3
   },
   "file_extension": ".py",
   "mimetype": "text/x-python",
   "name": "python",
   "nbconvert_exporter": "python",
   "pygments_lexer": "ipython3",
   "version": "3.12.3"
  }
 },
 "nbformat": 4,
 "nbformat_minor": 5
}

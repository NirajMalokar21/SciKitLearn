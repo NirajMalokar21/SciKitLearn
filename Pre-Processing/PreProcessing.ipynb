{
 "cells": [
  {
   "cell_type": "markdown",
   "id": "68255611-41e5-4493-ab78-b30f7c81e1e1",
   "metadata": {},
   "source": [
    "# Data pre-processing flow\n",
    "\n",
    "### Null value cleaning and processing \n",
    "### Value Implementation\n",
    "### Feature Engineering\n",
    "### Data Encoding\n",
    "### Data Scaling"
   ]
  },
  {
   "cell_type": "code",
   "execution_count": null,
   "id": "22e28488-28b3-433f-97f6-09c63e610d2d",
   "metadata": {},
   "outputs": [],
   "source": [
    "import sklearn"
   ]
  },
  {
   "cell_type": "code",
   "execution_count": null,
   "id": "b5e96f3b-d6e0-438a-8955-35e3805ed361",
   "metadata": {},
   "outputs": [],
   "source": [
    "from sklearn.datasets import load_iris"
   ]
  },
  {
   "cell_type": "code",
   "execution_count": null,
   "id": "91beb055-5942-491f-a2c9-7f570eab27bb",
   "metadata": {},
   "outputs": [],
   "source": [
    "load_iris()"
   ]
  },
  {
   "cell_type": "code",
   "execution_count": null,
   "id": "f133c101-efcf-4535-b4ca-a52920e7e549",
   "metadata": {
    "scrolled": true
   },
   "outputs": [],
   "source": [
    "load_iris(return_X_y=True)"
   ]
  },
  {
   "cell_type": "code",
   "execution_count": null,
   "id": "17327ebc-10b1-4e01-8389-9809df4763fc",
   "metadata": {},
   "outputs": [],
   "source": [
    "X, y = load_iris(return_X_y=True)"
   ]
  },
  {
   "cell_type": "code",
   "execution_count": null,
   "id": "0693865f-17db-4a94-acfd-1b0afa516467",
   "metadata": {},
   "outputs": [],
   "source": [
    "from sklearn.linear_model import LinearRegression"
   ]
  },
  {
   "cell_type": "code",
   "execution_count": null,
   "id": "1982c4c6-9ea3-4823-bdc7-32cd3c65cd2d",
   "metadata": {},
   "outputs": [],
   "source": [
    "Model = LinearRegression()"
   ]
  },
  {
   "cell_type": "code",
   "execution_count": null,
   "id": "31686111-97e3-4c46-a741-9d73f6fc6acc",
   "metadata": {},
   "outputs": [],
   "source": [
    "Model.fit(X,y)"
   ]
  },
  {
   "cell_type": "markdown",
   "id": "6fd9db79-890a-45b4-8bf4-c3afe6bdaeaf",
   "metadata": {},
   "source": [
    "Model.predict(X)"
   ]
  },
  {
   "cell_type": "code",
   "execution_count": null,
   "id": "a2345c41-e8ab-4a42-a1b4-191e8cb548d7",
   "metadata": {
    "scrolled": true
   },
   "outputs": [],
   "source": [
    "import matplotlib.pyplot as plt\n",
    "pred = Model.predict(X)\n",
    "plt.scatter(pred, y)"
   ]
  },
  {
   "cell_type": "markdown",
   "id": "f4db1d6e-4ac2-4755-9fce-ddd648a81ead",
   "metadata": {},
   "source": [
    "---\n",
    "\n",
    "# Null Value Processing"
   ]
  },
  {
   "cell_type": "code",
   "execution_count": null,
   "id": "fcb1a0df-baa9-4208-8cd8-f5d3cec0e7b1",
   "metadata": {},
   "outputs": [],
   "source": [
    "import pandas as pd"
   ]
  },
  {
   "cell_type": "code",
   "execution_count": null,
   "id": "539336e1-3f77-41eb-8476-58ff1bbee60b",
   "metadata": {},
   "outputs": [],
   "source": [
    "from sklearn.datasets import fetch_openml"
   ]
  },
  {
   "cell_type": "code",
   "execution_count": null,
   "id": "da83212b-ff7c-4668-83d7-0d110b28ef9f",
   "metadata": {},
   "outputs": [],
   "source": [
    "df = fetch_openml('titanic', version =1, as_frame=True)['data']"
   ]
  },
  {
   "cell_type": "markdown",
   "id": "b117711f-077b-4a8f-8240-01fee9ee5dd9",
   "metadata": {},
   "source": [
    "#### Find the null columns"
   ]
  },
  {
   "cell_type": "code",
   "execution_count": null,
   "id": "92e5e6a3-87dd-4400-a0bf-61581ee04da7",
   "metadata": {
    "scrolled": true
   },
   "outputs": [],
   "source": [
    "df.info()"
   ]
  },
  {
   "cell_type": "code",
   "execution_count": null,
   "id": "515fad90-a37a-4287-ba37-d9a758d887bf",
   "metadata": {
    "scrolled": true
   },
   "outputs": [],
   "source": [
    "df.isnull()"
   ]
  },
  {
   "cell_type": "code",
   "execution_count": null,
   "id": "1a7a65eb-4420-45f9-9cbf-8d215ec9a5c0",
   "metadata": {
    "scrolled": true
   },
   "outputs": [],
   "source": [
    "df.isnull().sum()"
   ]
  },
  {
   "cell_type": "code",
   "execution_count": null,
   "id": "9a584e19-20de-4016-aee5-0f58b29aa81a",
   "metadata": {},
   "outputs": [],
   "source": [
    "import seaborn as sns"
   ]
  },
  {
   "cell_type": "code",
   "execution_count": null,
   "id": "7a6ab433-e050-4a3e-be9a-b42a1389da80",
   "metadata": {
    "scrolled": true
   },
   "outputs": [],
   "source": [
    "sns.set()\n",
    "miss_value_per = pd.DataFrame((df.isnull().sum()/len(df))*100)\n",
    "miss_value_per.plot(kind='bar', title='Missing values in percentage', ylabel='percentage')"
   ]
  },
  {
   "cell_type": "code",
   "execution_count": null,
   "id": "9a8344a5-2231-481f-bc72-ebc5de599a8c",
   "metadata": {},
   "outputs": [],
   "source": [
    "print(f'size of the dataset: {df.shape}')"
   ]
  },
  {
   "cell_type": "markdown",
   "id": "f6f3549f-a397-46e9-bae2-14f2bc9c6cda",
   "metadata": {},
   "source": [
    "#### Gather information about null values and drop columns that have too many null vlaues"
   ]
  },
  {
   "cell_type": "code",
   "execution_count": null,
   "id": "fe044c03-8e70-4f33-8cba-5e6a315f0154",
   "metadata": {},
   "outputs": [],
   "source": [
    "df.drop(['body'], axis=1, inplace=True)\n",
    "print(f\"Size of the dataset after dropping a feature: {df.shape}\")"
   ]
  },
  {
   "cell_type": "markdown",
   "id": "4757e1b1-3946-4dff-a6c4-7bafec603977",
   "metadata": {},
   "source": [
    "---\n",
    "\n",
    "# Value Imputation\n",
    "\n",
    "#### SimpleImputator is used to fill in null values with mean median or mode\n"
   ]
  },
  {
   "cell_type": "code",
   "execution_count": null,
   "id": "b39e0520-8b68-4669-84c9-d102904adb21",
   "metadata": {},
   "outputs": [],
   "source": [
    " from sklearn.impute import SimpleImputer"
   ]
  },
  {
   "cell_type": "code",
   "execution_count": null,
   "id": "4bbd5db8-0ccf-4858-ad3e-74bcf6a8e8ae",
   "metadata": {},
   "outputs": [],
   "source": [
    "print(f\"Number of null values before imputing: {df.age.isnull().sum()}\")"
   ]
  },
  {
   "cell_type": "code",
   "execution_count": null,
   "id": "c723bfd5-3c34-4bbc-a0d6-f726ae4bf834",
   "metadata": {},
   "outputs": [],
   "source": [
    "imp = SimpleImputer(strategy='mean')\n",
    "df['age'] = imp.fit_transform(df[['age']])\n",
    "print(f\"Number of null values after imputing: {df.age.isnull().sum()}\")"
   ]
  },
  {
   "cell_type": "code",
   "execution_count": null,
   "id": "9d4913f2-5a34-4883-9ec9-9446cf699738",
   "metadata": {},
   "outputs": [],
   "source": [
    "def get_parameters(df):\n",
    "    parameters = {}\n",
    "    for col in df.columns[df.isnull().any()]:\n",
    "        if df[col].dtype == 'float64' or df[col].dtype == 'int64' or df[col].dtype == 'int32':\n",
    "            strategy = 'mean'\n",
    "        else:\n",
    "            strategy = 'most_frequent' \n",
    "\n",
    "        missing_values = df[col][df[col].isnull()].values[0] \n",
    "        parameters[col] = {'missing_values':missing_values, 'strategy':strategy}\n",
    "    return parameters\n",
    "get_parameters(df)"
   ]
  },
  {
   "cell_type": "code",
   "execution_count": null,
   "id": "f86689df-8a93-4ab6-96bd-8291882e1d18",
   "metadata": {},
   "outputs": [],
   "source": [
    "parameters = get_parameters(df)"
   ]
  },
  {
   "cell_type": "code",
   "execution_count": null,
   "id": "667c31c0-2ffc-47fb-af82-e273609db634",
   "metadata": {},
   "outputs": [],
   "source": [
    "for col, param in parameters.items():\n",
    "    missing_values = param['missing_values']\n",
    "    strategy = param['strategy']\n",
    "    imp = SimpleImputer(missing_values = missing_values, strategy= strategy)\n",
    "    df[col] = imp.fit_transform(df[[col]]).ravel()"
   ]
  },
  {
   "cell_type": "code",
   "execution_count": null,
   "id": "afa76a07-11b5-412c-9003-454a9dfccf9f",
   "metadata": {
    "scrolled": true
   },
   "outputs": [],
   "source": [
    "df.isnull().sum()"
   ]
  },
  {
   "cell_type": "code",
   "execution_count": null,
   "id": "08b8d1af-9afd-43d4-bc5d-ba1a62258f58",
   "metadata": {},
   "outputs": [],
   "source": [
    "df.head()"
   ]
  },
  {
   "cell_type": "markdown",
   "id": "eabf2618-a06a-404a-aec5-66c28c0bc914",
   "metadata": {},
   "source": [
    "---\n",
    "\n",
    "# Feature Engineering\n",
    "\n",
    "#### The code below:\n",
    "1) Creates a new family column\n",
    "2) Creates the travelled_alone columns\n",
    "3) Plots how many passengers have travelled alone on the ship\n",
    "\n"
   ]
  },
  {
   "cell_type": "code",
   "execution_count": null,
   "id": "b8618b71-c990-4025-bb2b-2c0cec42370c",
   "metadata": {},
   "outputs": [],
   "source": [
    "df['family'] = df['sibsp'] + df['parch']\n",
    "df.loc[df['family']>0, 'travelled_alone'] = 0\n",
    "df.loc[df['family']==0, 'travelled_alone'] = 1\n",
    "df['travelled_alone'].value_counts().plot(title='Passenger travelled alone?', kind='bar')"
   ]
  },
  {
   "cell_type": "markdown",
   "id": "cd05aeae-8f3f-4d0b-ba79-133e8db15c81",
   "metadata": {},
   "source": [
    "---\n",
    "\n",
    "# Data Encoding\n",
    "\n",
    "#### The code below:\n",
    "1) Selects the sex column from the df as a df\n",
    "2) Uses OneHotEncoder to encode the unique categories and then transform it into 2D array\n",
    "3) Assigns 2 new columns in df called male and female"
   ]
  },
  {
   "cell_type": "code",
   "execution_count": null,
   "id": "eac637ba-4974-4e7c-8590-866b11aa9d4a",
   "metadata": {},
   "outputs": [],
   "source": [
    "from sklearn.preprocessing import OneHotEncoder\n",
    "df[['female', 'male']] = OneHotEncoder().fit_transform(df[['sex']]).toarray()\n",
    "df[['sex', 'female', 'male']]"
   ]
  },
  {
   "cell_type": "code",
   "execution_count": null,
   "id": "5c0fa1f2-894c-4bd0-9cdf-5369828934cb",
   "metadata": {},
   "outputs": [],
   "source": [
    "df['sex'] = OneHotEncoder().fit_transform(df[['sex']]).toarray()[:,1]"
   ]
  },
  {
   "cell_type": "code",
   "execution_count": null,
   "id": "7961994b-e9f7-45e7-98d2-73a3e6461ca2",
   "metadata": {},
   "outputs": [],
   "source": [
    "df.head() "
   ]
  },
  {
   "cell_type": "markdown",
   "id": "afd67478-09ca-4314-97f9-09fa27c9b38e",
   "metadata": {},
   "source": [
    "# Scaling"
   ]
  },
  {
   "cell_type": "markdown",
   "id": "d63c4ea7-befb-48eb-8652-ba8bd8d38094",
   "metadata": {},
   "source": [
    "## If the data is any conditions has data points far from each other, scaling is a technique to make them close to each other"
   ]
  },
  {
   "cell_type": "markdown",
   "id": "2ea0f560-9afa-4623-afe6-a21a34784961",
   "metadata": {},
   "source": [
    "### MinMaxScaler"
   ]
  },
  {
   "cell_type": "markdown",
   "id": "da9e4320-12cd-427f-9371-23b4e30c8331",
   "metadata": {},
   "source": [
    "For each value in a feature, it subtracts the minimum value in the feature and then divides by the range"
   ]
  },
  {
   "cell_type": "markdown",
   "id": "c145d268-d455-4d04-8671-d873e2dd3b98",
   "metadata": {},
   "source": [
    "### StandardScaler"
   ]
  },
  {
   "cell_type": "raw",
   "id": "1d098328-3e39-413b-b55e-53c21528b740",
   "metadata": {},
   "source": [
    "Standard scalar follows the standard distributionn,, it assumes a normal dis. for data within each feature"
   ]
  },
  {
   "cell_type": "code",
   "execution_count": null,
   "id": "90a27a43-8767-4a6d-89b6-72ed483c616f",
   "metadata": {},
   "outputs": [],
   "source": [
    "from sklearn.preprocessing import StandardScaler"
   ]
  },
  {
   "cell_type": "code",
   "execution_count": null,
   "id": "fb5e2c1a-6fc7-4efa-836a-05bf892456f9",
   "metadata": {},
   "outputs": [],
   "source": [
    "num_cols = df.select_dtypes(include=['int64', 'float64', 'int32']).columns\n",
    "print(num_cols)"
   ]
  },
  {
   "cell_type": "code",
   "execution_count": null,
   "id": "1a466d90-7e6b-4b82-8000-3454847b0aab",
   "metadata": {},
   "outputs": [],
   "source": [
    "ss = StandardScaler()"
   ]
  },
  {
   "cell_type": "code",
   "execution_count": null,
   "id": "b077aa66-95c6-4f27-af64-f42bdaf582d8",
   "metadata": {},
   "outputs": [],
   "source": [
    "df[num_cols] == ss.fit_transform(df[num_cols])\n",
    "df[num_cols].describe()"
   ]
  },
  {
   "cell_type": "code",
   "execution_count": null,
   "id": "b3bc532b-1882-416c-9dbb-9f7f7bb68686",
   "metadata": {},
   "outputs": [],
   "source": [
    "from sklearn.preprocessing import MinMaxScaler"
   ]
  },
  {
   "cell_type": "code",
   "execution_count": null,
   "id": "e8e304b0-372d-46ba-8327-2104b1535f46",
   "metadata": {},
   "outputs": [],
   "source": [
    "minmax = MinMaxScaler() \n",
    "df[num_cols] = minmax.fit_transform(df[num_cols])\n",
    "df[num_cols]"
   ]
  }
 ],
 "metadata": {
  "kernelspec": {
   "display_name": "Python 3 (ipykernel)",
   "language": "python",
   "name": "python3"
  },
  "language_info": {
   "codemirror_mode": {
    "name": "ipython",
    "version": 3
   },
   "file_extension": ".py",
   "mimetype": "text/x-python",
   "name": "python",
   "nbconvert_exporter": "python",
   "pygments_lexer": "ipython3",
   "version": "3.12.3"
  }
 },
 "nbformat": 4,
 "nbformat_minor": 5
}

{
 "cells": [
  {
   "cell_type": "code",
   "execution_count": 1,
   "id": "a2497f7d-865f-419b-a2fe-6a480b873cb3",
   "metadata": {},
   "outputs": [],
   "source": [
    "import numpy as np"
   ]
  },
  {
   "cell_type": "code",
   "execution_count": 2,
   "id": "9ae4e80c-ef73-4286-a77e-d688111133ea",
   "metadata": {},
   "outputs": [],
   "source": [
    "X = np.array([\n",
    "    [0, 0],  # No ID, not on guest list → ❌\n",
    "    [0, 1],  # Guest only → ✅\n",
    "    [1, 0],  # ID only → ✅\n",
    "    [1, 1]   # ID and guest → ✅\n",
    "])\n",
    "y = np.array([0, 1, 1, 1]) "
   ]
  },
  {
   "cell_type": "code",
   "execution_count": 3,
   "id": "0b199eb8-bb06-4682-a913-ec4baf411338",
   "metadata": {},
   "outputs": [],
   "source": [
    "import math"
   ]
  },
  {
   "cell_type": "markdown",
   "id": "b9b3a5e5-aea1-486d-b860-b6b788c74f42",
   "metadata": {},
   "source": [
    "Number of wights needed will be the number of inputs"
   ]
  },
  {
   "cell_type": "code",
   "execution_count": 4,
   "id": "fa8bd4a6-a747-4c49-a6ca-08a85b6698ef",
   "metadata": {},
   "outputs": [
    {
     "name": "stdout",
     "output_type": "stream",
     "text": [
      "Initial weights:\n",
      "w0:  0.8983048756472776  w1:  0.0249300100715395\n"
     ]
    }
   ],
   "source": [
    "w0 = np.random.random() \n",
    "w1 = np.random.random()  \n",
    "print(\"Initial weights:\")\n",
    "print(\"w0: \", w0, \" w1: \", w1)"
   ]
  },
  {
   "cell_type": "code",
   "execution_count": 6,
   "id": "1b580b36-9acb-4dd1-b55b-b88f570a00c6",
   "metadata": {},
   "outputs": [],
   "source": [
    "epochs = 100\n",
    "alpha = 0.3"
   ]
  },
  {
   "cell_type": "code",
   "execution_count": 7,
   "id": "b0c13f13-6832-47b6-8139-f71e80566fe8",
   "metadata": {},
   "outputs": [],
   "source": [
    "bias = 0"
   ]
  },
  {
   "cell_type": "code",
   "execution_count": 8,
   "id": "c359b706-32af-423e-85e6-f5d2eee79596",
   "metadata": {},
   "outputs": [],
   "source": [
    "del_w0 = 1\n",
    "del_w1 = 1"
   ]
  },
  {
   "cell_type": "markdown",
   "id": "bb465065-0b94-4cc2-aa9d-65584fbe4ce6",
   "metadata": {},
   "source": [
    "1) predict\n",
    "2) activate function\n",
    "3) calculate error\n",
    "4) adjust weights"
   ]
  },
  {
   "cell_type": "code",
   "execution_count": 9,
   "id": "296f2288-0d55-430c-a48b-947943e8757b",
   "metadata": {},
   "outputs": [
    {
     "name": "stdout",
     "output_type": "stream",
     "text": [
      "\n",
      "Final Weights = \n",
      "w0:  0.8983048756472776  w1:  0.0249300100715395\n"
     ]
    }
   ],
   "source": [
    "for i in range(epochs): \n",
    "    j = 0\n",
    "    for x in X:\n",
    "        y_hat = w0*x[0] + w1*x[1] + bias\n",
    "\n",
    "        if(y_hat > 0):\n",
    "            act = 1\n",
    "        else:\n",
    "            act =0\n",
    "\n",
    "        err = y[j] - act\n",
    "\n",
    "        del_w0 = alpha*w0*err\n",
    "        del_w1 = alpha*w1*err \n",
    "\n",
    "        w0 = w0+del_w0\n",
    "        w1 = w1+del_w1\n",
    "\n",
    "        j =+ 1\n",
    "print(\"\\nFinal Weights = \")\n",
    "print(\"w0: \", w0, \" w1: \", w1)"
   ]
  }
 ],
 "metadata": {
  "kernelspec": {
   "display_name": "Python 3 (ipykernel)",
   "language": "python",
   "name": "python3"
  },
  "language_info": {
   "codemirror_mode": {
    "name": "ipython",
    "version": 3
   },
   "file_extension": ".py",
   "mimetype": "text/x-python",
   "name": "python",
   "nbconvert_exporter": "python",
   "pygments_lexer": "ipython3",
   "version": "3.12.3"
  }
 },
 "nbformat": 4,
 "nbformat_minor": 5
}

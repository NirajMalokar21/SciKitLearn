{
 "cells": [
  {
   "cell_type": "code",
   "execution_count": 1,
   "id": "a2497f7d-865f-419b-a2fe-6a480b873cb3",
   "metadata": {},
   "outputs": [],
   "source": [
    "import numpy as np"
   ]
  },
  {
   "cell_type": "code",
   "execution_count": 2,
   "id": "9ae4e80c-ef73-4286-a77e-d688111133ea",
   "metadata": {},
   "outputs": [],
   "source": [
    "X = np.array([\n",
    "    [0, 0],  # No ID, not on guest list → ❌\n",
    "    [0, 1],  # Guest only → ✅\n",
    "    [1, 0],  # ID only → ✅\n",
    "    [1, 1]   # ID and guest → ✅\n",
    "])\n",
    "y = np.array([0, 1, 1, 1]) "
   ]
  },
  {
   "cell_type": "code",
   "execution_count": null,
   "id": "0b199eb8-bb06-4682-a913-ec4baf411338",
   "metadata": {},
   "outputs": [],
   "source": []
  }
 ],
 "metadata": {
  "kernelspec": {
   "display_name": "Python 3 (ipykernel)",
   "language": "python",
   "name": "python3"
  },
  "language_info": {
   "codemirror_mode": {
    "name": "ipython",
    "version": 3
   },
   "file_extension": ".py",
   "mimetype": "text/x-python",
   "name": "python",
   "nbconvert_exporter": "python",
   "pygments_lexer": "ipython3",
   "version": "3.12.3"
  }
 },
 "nbformat": 4,
 "nbformat_minor": 5
}

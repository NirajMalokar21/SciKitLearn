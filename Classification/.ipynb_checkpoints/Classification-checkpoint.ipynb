{
 "cells": [
  {
   "cell_type": "markdown",
   "id": "36035647-e26c-46f2-83e4-df789792dfe2",
   "metadata": {},
   "source": [
    "# What is classification?\n",
    "\n",
    "#### Process of categorizing a given set of data into classes\n",
    "#### Can be performed on both structured and unstructured data\n",
    "#### Starts with predicting the class ofa  given data points.\n",
    "#### Classes are referred to as targets, or labels\n",
    "\n",
    "---\n"
   ]
  },
  {
   "cell_type": "markdown",
   "id": "19fd15b7-0e55-4613-92a3-6d49449bd1d1",
   "metadata": {},
   "source": [
    "### Perceptron is single layered network in a neural network\n",
    "\n",
    "#### We will use the OR Gate for example\n",
    "\n"
   ]
  },
  {
   "cell_type": "code",
   "execution_count": 3,
   "id": "9a036ddd-e369-4741-9199-229df6cb9f5c",
   "metadata": {},
   "outputs": [
    {
     "data": {
      "text/plain": [
       "array([[0, 0],\n",
       "       [0, 1],\n",
       "       [1, 0],\n",
       "       [1, 1]])"
      ]
     },
     "execution_count": 3,
     "metadata": {},
     "output_type": "execute_result"
    }
   ],
   "source": [
    "import numpy as np \n",
    "x = np.array([[0,0], [0, 1], [1, 0], [1, 1]])\n",
    "y = np.array([0, 1, 1, 1]) \n",
    "x"
   ]
  },
  {
   "cell_type": "code",
   "execution_count": 4,
   "id": "49a15f6b-1764-45cd-99c5-ddd1714531f6",
   "metadata": {},
   "outputs": [
    {
     "data": {
      "text/plain": [
       "array([0, 1, 1, 1])"
      ]
     },
     "execution_count": 4,
     "metadata": {},
     "output_type": "execute_result"
    }
   ],
   "source": [
    "y"
   ]
  },
  {
   "cell_type": "markdown",
   "id": "1d1ba6b6-a295-4a3f-9db8-315ed931cec0",
   "metadata": {},
   "source": [
    "#### Weight vector\n",
    "\n",
    "* It is a vector that assigns importance to each input feature\n",
    "* Since each input is a 2 element vector, the weights are also 2-element: [w1, w2]\n",
    "* We are treating both inputs equally since both are 1"
   ]
  },
  {
   "cell_type": "code",
   "execution_count": 6,
   "id": "1c5cec65-3288-4fc4-8514-11afb6c3bb39",
   "metadata": {},
   "outputs": [
    {
     "data": {
      "text/plain": [
       "array([1, 1])"
      ]
     },
     "execution_count": 6,
     "metadata": {},
     "output_type": "execute_result"
    }
   ],
   "source": [
    "w = np.array([1, 1])\n",
    "w"
   ]
  },
  {
   "cell_type": "markdown",
   "id": "c526bbdc-a2cd-4423-8440-5327a61b632d",
   "metadata": {},
   "source": [
    "#### Bias\n",
    "\n",
    "* Bias shifts the decision boundary\n",
    "* It is like a default outpt before seeing any input - helps the model learn functions that dont pass through the origin\n",
    "* Moves the treshold so that only [0, 0] produces a 0"
   ]
  },
  {
   "cell_type": "code",
   "execution_count": 7,
   "id": "9ffa671b-fd8e-418e-bc66-7ba966064d6e",
   "metadata": {},
   "outputs": [],
   "source": [
    "b = -0.5"
   ]
  },
  {
   "cell_type": "code",
   "execution_count": 8,
   "id": "9d48e217-9e75-4d07-8933-9b9c4eff65be",
   "metadata": {},
   "outputs": [],
   "source": [
    "def activation(z):\n",
    "    if z >= 0:\n",
    "        return 1\n",
    "    else:\n",
    "        return 0"
   ]
  },
  {
   "cell_type": "code",
   "execution_count": 9,
   "id": "642ef7e0-6946-4c38-b715-0f3ebbb4ed70",
   "metadata": {},
   "outputs": [],
   "source": [
    "pred = []\n",
    "for a in x:\n",
    "    y_hat = np.dot(a,w)+b\n",
    "    pred.append(activation(y_hat))"
   ]
  },
  {
   "cell_type": "code",
   "execution_count": 10,
   "id": "8bc53e75-d2b2-443a-8c3c-aad7bfc97c4a",
   "metadata": {},
   "outputs": [
    {
     "data": {
      "text/plain": [
       "[0, 1, 1, 1]"
      ]
     },
     "execution_count": 10,
     "metadata": {},
     "output_type": "execute_result"
    }
   ],
   "source": [
    "pred"
   ]
  },
  {
   "cell_type": "markdown",
   "id": "c6ba7bf7-3d2c-4fa8-94ab-bad5e9eb4176",
   "metadata": {},
   "source": [
    "---\n",
    "\n",
    "## Perceptron Learning\n",
    "\n",
    "1) Concept: Train weights over epochs, and iterate prediction error back to the perceptron for each epoch\n",
    "2) During error propogation process, we will make changes in our weight values till the time our perceptron makes accurate predictions\n",
    "3) Weight(new) = Weight(old) - Learning_rate * (Gradient of error with respect to weight)\n",
    "4) Error = Output - Predicted_Output"
   ]
  },
  {
   "cell_type": "code",
   "execution_count": 11,
   "id": "dec18598-4500-431e-b8a9-206bea6c9fb9",
   "metadata": {},
   "outputs": [],
   "source": [
    "import math"
   ]
  },
  {
   "cell_type": "code",
   "execution_count": 12,
   "id": "8e1e3fc9-e23f-4ecb-9c34-00db8be5d0a7",
   "metadata": {},
   "outputs": [],
   "source": [
    "epochs = 100\n",
    "alpha = 0.2"
   ]
  },
  {
   "cell_type": "code",
   "execution_count": null,
   "id": "5777c50a-4427-4bd6-a10e-84223d29366d",
   "metadata": {},
   "outputs": [],
   "source": [
    "w0 = np.random.random() \n",
    "w1 = np.random.random()  \n",
    "w2 = np.random.random() \n",
    "print(\"Initial weights:\")"
   ]
  }
 ],
 "metadata": {
  "kernelspec": {
   "display_name": "Python 3 (ipykernel)",
   "language": "python",
   "name": "python3"
  },
  "language_info": {
   "codemirror_mode": {
    "name": "ipython",
    "version": 3
   },
   "file_extension": ".py",
   "mimetype": "text/x-python",
   "name": "python",
   "nbconvert_exporter": "python",
   "pygments_lexer": "ipython3",
   "version": "3.12.3"
  }
 },
 "nbformat": 4,
 "nbformat_minor": 5
}
